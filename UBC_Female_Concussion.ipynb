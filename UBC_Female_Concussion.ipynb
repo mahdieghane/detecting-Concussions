{
  "cells": [
    {
      "cell_type": "code",
      "execution_count": null,
      "metadata": {
        "colab": {
          "base_uri": "https://localhost:8080/"
        },
        "id": "9kw38-q6mR0B",
        "outputId": "3b2cc5c3-3073-4ce1-8cea-328387a1e3b1"
      },
      "outputs": [
        {
          "output_type": "stream",
          "name": "stdout",
          "text": [
            "Reading EGI header from /content/drive/MyDrive/UBCData/HCraw/HC_0016.mff.zip...\n",
            "Error processing HC_0016.mff.zip: 'ascii' codec can't decode byte 0x90 in position 0: ordinal not in range(128)\n",
            "Reading EGI header from /content/drive/MyDrive/UBCData/HCraw/HC_009.mff.zip...\n",
            "Error processing HC_009.mff.zip: 'ascii' codec can't decode byte 0x90 in position 0: ordinal not in range(128)\n",
            "Reading EGI header from /content/drive/MyDrive/UBCData/HCraw/HC_001.raw...\n",
            "    Reading events ...\n",
            "Reading EGI header from /content/drive/MyDrive/UBCData/HCraw/HC_004.raw...\n",
            "    Reading events ...\n",
            "Reading EGI header from /content/drive/MyDrive/UBCData/HCraw/HC_0010.mff.zip...\n",
            "Error processing HC_0010.mff.zip: 'ascii' codec can't decode byte 0x90 in position 0: ordinal not in range(128)\n",
            "Reading EGI header from /content/drive/MyDrive/UBCData/HCraw/HC_006.raw...\n",
            "Reading EGI header from /content/drive/MyDrive/UBCData/HCraw/HC_003.raw...\n",
            "    Reading events ...\n",
            "    Reading events ...\n",
            "    Assembling measurement info ...\n",
            "    Excluding events {} ...\n",
            "Reading 0 ... 87017  =      0.000 ...   348.068 secs...\n",
            "    Assembling measurement info ...\n",
            "    Excluding events {} ...\n",
            "    Assembling measurement info ...\n",
            "    Excluding events {} ...\n",
            "    Assembling measurement info ...\n",
            "    Excluding events {} ...\n",
            "Filtering raw data in 1 contiguous segment\n",
            "Setting up low-pass filter at 1.2e+02 Hz\n",
            "\n",
            "FIR filter parameters\n",
            "---------------------\n",
            "Designing a one-pass, zero-phase, non-causal lowpass filter:\n",
            "- Windowed time-domain design (firwin) method\n",
            "- Hamming window with 0.0194 passband ripple and 53 dB stopband attenuation\n",
            "- Upper passband edge: 120.00 Hz\n",
            "- Upper transition bandwidth: 5.00 Hz (-6 dB cutoff frequency: 122.50 Hz)\n",
            "- Filter length: 165 samples (0.660 s)\n",
            "\n",
            "Reading 0 ... 89475  =      0.000 ...   357.900 secs...\n"
          ]
        },
        {
          "output_type": "stream",
          "name": "stderr",
          "text": [
            "[Parallel(n_jobs=1)]: Done  17 tasks      | elapsed:    0.4s\n"
          ]
        },
        {
          "output_type": "stream",
          "name": "stdout",
          "text": [
            "Reading 0 ... 91421  =      0.000 ...   365.684 secs...\n",
            "Reading 0 ... 91471  =      0.000 ...   365.884 secs...\n",
            "Filtering raw data in 1 contiguous segment\n",
            "Setting up low-pass filter at 1.2e+02 Hz\n",
            "\n",
            "FIR filter parameters\n",
            "---------------------\n",
            "Filtering raw data in 1 contiguous segment\n",
            "Setting up low-pass filter at 1.2e+02 Hz\n",
            "Designing a one-pass, zero-phase, non-causal lowpass filter:\n",
            "\n",
            "FIR filter parameters\n",
            "- Windowed time-domain design (firwin) method\n",
            "---------------------\n",
            "- Hamming window with 0.0194 passband ripple and 53 dB stopband attenuation\n",
            "Designing a one-pass, zero-phase, non-causal lowpass filter:\n",
            "- Upper passband edge: 120.00 Hz\n",
            "- Windowed time-domain design (firwin) method\n",
            "- Upper transition bandwidth: 5.00 Hz (-6 dB cutoff frequency: 122.50 Hz)\n",
            "- Hamming window with 0.0194 passband ripple and 53 dB stopband attenuation\n",
            "- Upper passband edge: 120.00 Hz\n",
            "- Filter length: 165 samples (0.660 s)\n",
            "- Upper transition bandwidth: 5.00 Hz (-6 dB cutoff frequency: 122.50 Hz)\n",
            "\n",
            "- Filter length: 165 samples (0.660 s)\n",
            "\n",
            "Filtering raw data in 1 contiguous segment\n",
            "Setting up low-pass filter at 1.2e+02 Hz\n",
            "\n",
            "FIR filter parameters\n",
            "---------------------\n",
            "Designing a one-pass, zero-phase, non-causal lowpass filter:\n"
          ]
        },
        {
          "output_type": "stream",
          "name": "stderr",
          "text": [
            "[Parallel(n_jobs=1)]: Done  17 tasks      | elapsed:    0.4s\n"
          ]
        },
        {
          "output_type": "stream",
          "name": "stdout",
          "text": [
            "- Windowed time-domain design (firwin) method\n",
            "- Hamming window with 0.0194 passband ripple and 53 dB stopband attenuation\n",
            "- Upper passband edge: 120.00 Hz\n",
            "- Upper transition bandwidth: 5.00 Hz (-6 dB cutoff frequency: 122.50 Hz)\n",
            "- Filter length: 165 samples (0.660 s)\n",
            "\n"
          ]
        },
        {
          "output_type": "stream",
          "name": "stderr",
          "text": [
            "[Parallel(n_jobs=1)]: Done  17 tasks      | elapsed:    0.6s\n",
            "[Parallel(n_jobs=1)]: Done  17 tasks      | elapsed:    0.5s\n"
          ]
        },
        {
          "output_type": "stream",
          "name": "stdout",
          "text": [
            "Reading EGI MFF Header from /content/drive/MyDrive/UBCData/HCraw/HC_0010.mff...\n",
            "    Reading events ...\n",
            "    Assembling measurement info ...\n",
            "    Excluding events {} ...\n",
            "Reading 0 ... 151857  =      0.000 ...   303.714 secs...\n",
            "Reading EGI header from /content/drive/MyDrive/UBCData/HCraw/HC_002.raw...\n",
            "    Reading events ...\n",
            "Reading EGI header from /content/drive/MyDrive/UBCData/HCraw/HC_007.raw...\n",
            "    Reading events ...\n",
            "Filtering raw data in 1 contiguous segment\n",
            "Setting up low-pass filter at 1.2e+02 Hz\n",
            "\n",
            "FIR filter parameters\n",
            "Reading EGI MFF Header from /content/drive/MyDrive/UBCData/HCraw/HC_0012.mff...\n",
            "---------------------\n",
            "Designing a one-pass, zero-phase, non-causal lowpass filter:\n",
            "- Windowed time-domain design (firwin) method\n",
            "- Hamming window with 0.0194 passband ripple and 53 dB stopband attenuation\n",
            "- Upper passband edge: 120.00 Hz\n",
            "- Upper transition bandwidth: 30.00 Hz (-6 dB cutoff frequency: 135.00 Hz)\n",
            "- Filter length: 55 samples (0.110 s)\n",
            "\n",
            "    Reading events ...\n",
            "    Assembling measurement info ...\n",
            "    Excluding events {} ...\n",
            "Reading 0 ... 154610  =      0.000 ...   309.220 secs...\n"
          ]
        },
        {
          "output_type": "stream",
          "name": "stderr",
          "text": [
            "[Parallel(n_jobs=1)]: Done  17 tasks      | elapsed:    0.9s\n"
          ]
        },
        {
          "output_type": "stream",
          "name": "stdout",
          "text": [
            "Filtering raw data in 1 contiguous segment\n",
            "Setting up low-pass filter at 1.2e+02 Hz\n",
            "\n",
            "FIR filter parameters\n",
            "---------------------\n",
            "Designing a one-pass, zero-phase, non-causal lowpass filter:\n",
            "- Windowed time-domain design (firwin) method\n",
            "- Hamming window with 0.0194 passband ripple and 53 dB stopband attenuation\n",
            "- Upper passband edge: 120.00 Hz\n",
            "- Upper transition bandwidth: 30.00 Hz (-6 dB cutoff frequency: 135.00 Hz)\n",
            "- Filter length: 55 samples (0.110 s)\n",
            "\n"
          ]
        },
        {
          "output_type": "stream",
          "name": "stderr",
          "text": [
            "[Parallel(n_jobs=1)]: Done  17 tasks      | elapsed:    1.2s\n"
          ]
        },
        {
          "output_type": "stream",
          "name": "stdout",
          "text": [
            "Reading EGI MFF Header from /content/drive/MyDrive/UBCData/HCraw/HC_0018.mff...\n",
            "    Reading events ...\n",
            "    Assembling measurement info ...\n",
            "    Excluding events {} ...\n",
            "Reading 0 ... 174265  =      0.000 ...   348.530 secs...\n",
            "Reading EGI MFF Header from /content/drive/MyDrive/UBCData/HCraw/HC_0011.mff...\n",
            "    Reading events ...\n",
            "Filtering raw data in 1 contiguous segment\n",
            "Setting up low-pass filter at 1.2e+02 Hz\n",
            "\n",
            "    Assembling measurement info ...\n",
            "FIR filter parameters\n",
            "    Excluding events {} ...\n",
            "---------------------\n",
            "Designing a one-pass, zero-phase, non-causal lowpass filter:\n",
            "- Windowed time-domain design (firwin) method\n",
            "- Hamming window with 0.0194 passband ripple and 53 dB stopband attenuation\n",
            "- Upper passband edge: 120.00 Hz\n",
            "- Upper transition bandwidth: 30.00 Hz (-6 dB cutoff frequency: 135.00 Hz)\n",
            "- Filter length: 55 samples (0.110 s)\n",
            "\n",
            "Reading 0 ... 166448  =      0.000 ...   332.896 secs...\n",
            "Filtering raw data in 1 contiguous segment\n",
            "Setting up low-pass filter at 1.2e+02 Hz\n",
            "\n",
            "FIR filter parameters\n",
            "---------------------\n",
            "Designing a one-pass, zero-phase, non-causal lowpass filter:\n",
            "- Windowed time-domain design (firwin) method\n",
            "- Hamming window with 0.0194 passband ripple and 53 dB stopband attenuation\n",
            "- Upper passband edge: 120.00 Hz\n",
            "- Upper transition bandwidth: 30.00 Hz (-6 dB cutoff frequency: 135.00 Hz)\n",
            "- Filter length: 55 samples (0.110 s)\n",
            "\n"
          ]
        },
        {
          "output_type": "stream",
          "name": "stderr",
          "text": [
            "[Parallel(n_jobs=1)]: Done  17 tasks      | elapsed:    1.8s\n",
            "[Parallel(n_jobs=1)]: Done  17 tasks      | elapsed:    1.9s\n"
          ]
        },
        {
          "output_type": "stream",
          "name": "stdout",
          "text": [
            "    Assembling measurement info ...\n",
            "    Excluding events {} ...\n",
            "Reading 0 ... 86425  =      0.000 ...   345.700 secs...\n",
            "Filtering raw data in 1 contiguous segment\n",
            "Setting up low-pass filter at 1.2e+02 Hz\n",
            "\n",
            "FIR filter parameters\n",
            "---------------------\n",
            "Designing a one-pass, zero-phase, non-causal lowpass filter:\n",
            "- Windowed time-domain design (firwin) method\n",
            "- Hamming window with 0.0194 passband ripple and 53 dB stopband attenuation\n",
            "- Upper passband edge: 120.00 Hz\n",
            "- Upper transition bandwidth: 5.00 Hz (-6 dB cutoff frequency: 122.50 Hz)\n",
            "- Filter length: 165 samples (0.660 s)\n",
            "\n",
            "    Assembling measurement info ...\n",
            "    Excluding events {} ...\n",
            "Reading 0 ... 91863  =      0.000 ...   367.452 secs...\n"
          ]
        },
        {
          "output_type": "stream",
          "name": "stderr",
          "text": [
            "[Parallel(n_jobs=1)]: Done  17 tasks      | elapsed:    0.8s\n"
          ]
        },
        {
          "output_type": "stream",
          "name": "stdout",
          "text": [
            "Filtering raw data in 1 contiguous segment\n",
            "Setting up low-pass filter at 1.2e+02 Hz\n",
            "\n",
            "FIR filter parameters\n",
            "---------------------\n",
            "Designing a one-pass, zero-phase, non-causal lowpass filter:\n",
            "- Windowed time-domain design (firwin) method\n",
            "- Hamming window with 0.0194 passband ripple and 53 dB stopband attenuation\n",
            "- Upper passband edge: 120.00 Hz\n",
            "- Upper transition bandwidth: 5.00 Hz (-6 dB cutoff frequency: 122.50 Hz)\n",
            "- Filter length: 165 samples (0.660 s)\n",
            "\n"
          ]
        },
        {
          "output_type": "stream",
          "name": "stderr",
          "text": [
            "[Parallel(n_jobs=1)]: Done  17 tasks      | elapsed:    0.5s\n"
          ]
        },
        {
          "output_type": "stream",
          "name": "stdout",
          "text": [
            "Reading EGI MFF Header from /content/drive/MyDrive/UBCData/HCraw/HC_0016.mff...\n",
            "Reading EGI header from /content/drive/MyDrive/UBCData/HCraw/HC_005.raw...\n",
            "    Reading events ...\n",
            "    Reading events ...\n",
            "    Assembling measurement info ...\n",
            "    Excluding events {} ...\n",
            "Reading 0 ... 155272  =      0.000 ...   310.544 secs...\n",
            "Reading EGI MFF Header from /content/drive/MyDrive/UBCData/HCraw/HC_0017.mff...\n",
            "    Reading events ...\n",
            "    Assembling measurement info ...\n",
            "    Excluding events {} ...\n",
            "Reading 0 ... 153416  =      0.000 ...   306.832 secs...\n",
            "Filtering raw data in 1 contiguous segment\n",
            "Setting up low-pass filter at 1.2e+02 Hz\n",
            "\n",
            "FIR filter parameters\n",
            "---------------------\n",
            "Designing a one-pass, zero-phase, non-causal lowpass filter:\n",
            "- Windowed time-domain design (firwin) method\n",
            "- Hamming window with 0.0194 passband ripple and 53 dB stopband attenuation\n",
            "- Upper passband edge: 120.00 Hz\n",
            "- Upper transition bandwidth: 30.00 Hz (-6 dB cutoff frequency: 135.00 Hz)\n",
            "- Filter length: 55 samples (0.110 s)\n",
            "\n",
            "Reading EGI MFF Header from /content/drive/MyDrive/UBCData/HCraw/HC_0019.mff...\n",
            "    Reading events ...\n",
            "Filtering raw data in 1 contiguous segment\n",
            "Setting up low-pass filter at 1.2e+02 Hz\n",
            "\n",
            "FIR filter parameters\n",
            "---------------------\n",
            "Designing a one-pass, zero-phase, non-causal lowpass filter:\n",
            "- Windowed time-domain design (firwin) method\n",
            "- Hamming window with 0.0194 passband ripple and 53 dB stopband attenuation\n",
            "- Upper passband edge: 120.00 Hz\n",
            "- Upper transition bandwidth: 30.00 Hz (-6 dB cutoff frequency: 135.00 Hz)\n",
            "- Filter length: 55 samples (0.110 s)\n",
            "\n",
            "    Assembling measurement info ...\n",
            "    Excluding events {} ...\n",
            "Reading 0 ... 158100  =      0.000 ...   316.200 secs...\n"
          ]
        },
        {
          "output_type": "stream",
          "name": "stderr",
          "text": [
            "[Parallel(n_jobs=1)]: Done  17 tasks      | elapsed:    1.3s\n"
          ]
        },
        {
          "output_type": "stream",
          "name": "stdout",
          "text": [
            "Filtering raw data in 1 contiguous segment\n",
            "Setting up low-pass filter at 1.2e+02 Hz\n",
            "\n",
            "FIR filter parameters\n",
            "---------------------\n",
            "Designing a one-pass, zero-phase, non-causal lowpass filter:\n",
            "- Windowed time-domain design (firwin) method\n",
            "- Hamming window with 0.0194 passband ripple and 53 dB stopband attenuation\n",
            "- Upper passband edge: 120.00 Hz\n",
            "- Upper transition bandwidth: 30.00 Hz (-6 dB cutoff frequency: 135.00 Hz)\n",
            "- Filter length: 55 samples (0.110 s)\n",
            "\n"
          ]
        },
        {
          "output_type": "stream",
          "name": "stderr",
          "text": [
            "[Parallel(n_jobs=1)]: Done  17 tasks      | elapsed:    1.4s\n",
            "[Parallel(n_jobs=1)]: Done  17 tasks      | elapsed:    1.2s\n"
          ]
        },
        {
          "output_type": "stream",
          "name": "stdout",
          "text": [
            "Reading EGI MFF Header from /content/drive/MyDrive/UBCData/HCraw/HC_0013.mff...\n",
            "    Reading events ...\n",
            "    Assembling measurement info ...\n",
            "    Excluding events {} ...\n",
            "Reading 0 ... 165170  =      0.000 ...   330.340 secs...\n",
            "Reading EGI header from /content/drive/MyDrive/UBCData/ACraw/AC_0016.RAW...\n",
            "    Reading events ...\n",
            "    Assembling measurement info ...\n",
            "    Excluding events {} ...\n",
            "Reading 0 ... 77073  =      0.000 ...   308.292 secs...\n",
            "Reading EGI MFF Header from /content/drive/MyDrive/UBCData/HCraw/HC_0015.mff...\n",
            "Filtering raw data in 1 contiguous segment\n",
            "Setting up low-pass filter at 1.2e+02 Hz\n",
            "\n",
            "FIR filter parameters\n",
            "---------------------\n",
            "Designing a one-pass, zero-phase, non-causal lowpass filter:\n",
            "- Windowed time-domain design (firwin) method\n",
            "- Hamming window with 0.0194 passband ripple and 53 dB stopband attenuation\n",
            "- Upper passband edge: 120.00 Hz\n",
            "- Upper transition bandwidth: 5.00 Hz (-6 dB cutoff frequency: 122.50 Hz)\n",
            "    Reading events ...\n",
            "- Filter length: 165 samples (0.660 s)\n",
            "\n",
            "    Assembling measurement info ...\n",
            "    Excluding events {} ...\n",
            "Reading 0 ... 153030  =      0.000 ...   306.060 secs...\n",
            "Filtering raw data in 1 contiguous segment\n",
            "Setting up low-pass filter at 1.2e+02 Hz\n",
            "\n",
            "FIR filter parameters\n",
            "---------------------\n",
            "Designing a one-pass, zero-phase, non-causal lowpass filter:\n",
            "- Windowed time-domain design (firwin) method\n",
            "- Hamming window with 0.0194 passband ripple and 53 dB stopband attenuation\n",
            "- Upper passband edge: 120.00 Hz\n",
            "- Upper transition bandwidth: 30.00 Hz (-6 dB cutoff frequency: 135.00 Hz)\n",
            "- Filter length: 55 samples (0.110 s)\n",
            "\n"
          ]
        },
        {
          "output_type": "stream",
          "name": "stderr",
          "text": [
            "[Parallel(n_jobs=1)]: Done  17 tasks      | elapsed:    0.6s\n"
          ]
        },
        {
          "output_type": "stream",
          "name": "stdout",
          "text": [
            "Filtering raw data in 1 contiguous segment\n",
            "Setting up low-pass filter at 1.2e+02 Hz\n",
            "\n",
            "FIR filter parameters\n",
            "---------------------\n",
            "Designing a one-pass, zero-phase, non-causal lowpass filter:\n",
            "- Windowed time-domain design (firwin) method\n",
            "- Hamming window with 0.0194 passband ripple and 53 dB stopband attenuation\n",
            "- Upper passband edge: 120.00 Hz\n",
            "- Upper transition bandwidth: 30.00 Hz (-6 dB cutoff frequency: 135.00 Hz)\n",
            "- Filter length: 55 samples (0.110 s)\n",
            "\n"
          ]
        },
        {
          "output_type": "stream",
          "name": "stderr",
          "text": [
            "[Parallel(n_jobs=1)]: Done  17 tasks      | elapsed:    1.7s\n",
            "[Parallel(n_jobs=1)]: Done  17 tasks      | elapsed:    1.7s\n"
          ]
        },
        {
          "output_type": "stream",
          "name": "stdout",
          "text": [
            "Reading EGI header from /content/drive/MyDrive/UBCData/ACraw/AC_004.raw...\n",
            "    Reading events ...\n",
            "Reading EGI MFF Header from /content/drive/MyDrive/UBCData/HCraw/HC_0014.mff...\n",
            "    Reading events ...\n",
            "    Assembling measurement info ...\n",
            "    Excluding events {} ...\n",
            "Reading 0 ... 155798  =      0.000 ...   311.596 secs...\n",
            "Reading EGI header from /content/drive/MyDrive/UBCData/ACraw/AC_005.mff.zip...\n",
            "Error processing AC_005.mff.zip: 'ascii' codec can't decode byte 0x90 in position 0: ordinal not in range(128)\n",
            "    Assembling measurement info ...\n",
            "    Excluding events {} ...\n",
            "Reading 0 ... 78538  =      0.000 ...   314.152 secs...\n",
            "Filtering raw data in 1 contiguous segment\n",
            "Setting up low-pass filter at 1.2e+02 Hz\n",
            "\n",
            "FIR filter parameters\n",
            "---------------------\n",
            "Designing a one-pass, zero-phase, non-causal lowpass filter:\n",
            "- Windowed time-domain design (firwin) method\n",
            "- Hamming window with 0.0194 passband ripple and 53 dB stopband attenuation\n",
            "- Upper passband edge: 120.00 Hz\n",
            "- Upper transition bandwidth: 5.00 Hz (-6 dB cutoff frequency: 122.50 Hz)\n",
            "- Filter length: 165 samples (0.660 s)\n",
            "\n",
            "Filtering raw data in 1 contiguous segment\n",
            "Setting up low-pass filter at 1.2e+02 Hz\n",
            "\n",
            "FIR filter parameters\n",
            "---------------------\n",
            "Designing a one-pass, zero-phase, non-causal lowpass filter:\n",
            "- Windowed time-domain design (firwin) method\n",
            "- Hamming window with 0.0194 passband ripple and 53 dB stopband attenuation\n",
            "- Upper passband edge: 120.00 Hz\n",
            "Reading EGI header from /content/drive/MyDrive/UBCData/ACraw/AC_0011.RAW...\n",
            "- Upper transition bandwidth: 30.00 Hz (-6 dB cutoff frequency: 135.00 Hz)\n",
            "    Reading events ...\n",
            "- Filter length: 55 samples (0.110 s)\n",
            "\n"
          ]
        },
        {
          "output_type": "stream",
          "name": "stderr",
          "text": [
            "[Parallel(n_jobs=1)]: Done  17 tasks      | elapsed:    0.5s\n"
          ]
        },
        {
          "output_type": "stream",
          "name": "stdout",
          "text": [
            "Reading EGI header from /content/drive/MyDrive/UBCData/ACraw/AC_0017.RAW...\n",
            "    Reading events ...\n"
          ]
        },
        {
          "output_type": "stream",
          "name": "stderr",
          "text": [
            "[Parallel(n_jobs=1)]: Done  17 tasks      | elapsed:    1.2s\n"
          ]
        },
        {
          "output_type": "stream",
          "name": "stdout",
          "text": [
            "Reading EGI header from /content/drive/MyDrive/UBCData/ACraw/AC_002.raw...\n",
            "    Reading events ...\n",
            "    Assembling measurement info ...\n",
            "    Excluding events {} ...\n",
            "Reading 0 ... 98595  =      0.000 ...   394.380 secs...\n",
            "Filtering raw data in 1 contiguous segment\n",
            "Setting up low-pass filter at 1.2e+02 Hz\n",
            "\n",
            "FIR filter parameters\n",
            "---------------------\n",
            "Designing a one-pass, zero-phase, non-causal lowpass filter:\n",
            "- Windowed time-domain design (firwin) method\n",
            "- Hamming window with 0.0194 passband ripple and 53 dB stopband attenuation\n",
            "- Upper passband edge: 120.00 Hz\n",
            "- Upper transition bandwidth: 5.00 Hz (-6 dB cutoff frequency: 122.50 Hz)\n",
            "- Filter length: 165 samples (0.660 s)\n",
            "\n"
          ]
        },
        {
          "output_type": "stream",
          "name": "stderr",
          "text": [
            "[Parallel(n_jobs=1)]: Done  17 tasks      | elapsed:    0.3s\n"
          ]
        },
        {
          "output_type": "stream",
          "name": "stdout",
          "text": [
            "Reading EGI header from /content/drive/MyDrive/UBCData/ACraw/AC_0014.RAW...\n",
            "    Reading events ...\n",
            "    Assembling measurement info ...\n",
            "    Excluding events {} ...\n",
            "Reading 0 ... 77625  =      0.000 ...   310.500 secs...\n",
            "Filtering raw data in 1 contiguous segment\n",
            "Setting up low-pass filter at 1.2e+02 Hz\n",
            "\n",
            "FIR filter parameters\n",
            "---------------------\n",
            "Designing a one-pass, zero-phase, non-causal lowpass filter:\n",
            "- Windowed time-domain design (firwin) method\n",
            "- Hamming window with 0.0194 passband ripple and 53 dB stopband attenuation\n",
            "- Upper passband edge: 120.00 Hz\n",
            "- Upper transition bandwidth: 5.00 Hz (-6 dB cutoff frequency: 122.50 Hz)\n",
            "- Filter length: 165 samples (0.660 s)\n",
            "\n",
            "    Assembling measurement info ...\n",
            "    Excluding events {} ...\n",
            "Reading 0 ... 90123  =      0.000 ...   360.492 secs...\n"
          ]
        },
        {
          "output_type": "stream",
          "name": "stderr",
          "text": [
            "[Parallel(n_jobs=1)]: Done  17 tasks      | elapsed:    0.4s\n"
          ]
        },
        {
          "output_type": "stream",
          "name": "stdout",
          "text": [
            "Filtering raw data in 1 contiguous segment\n",
            "Setting up low-pass filter at 1.2e+02 Hz\n",
            "\n",
            "FIR filter parameters\n",
            "---------------------\n",
            "Designing a one-pass, zero-phase, non-causal lowpass filter:\n",
            "- Windowed time-domain design (firwin) method\n",
            "- Hamming window with 0.0194 passband ripple and 53 dB stopband attenuation\n",
            "- Upper passband edge: 120.00 Hz\n",
            "- Upper transition bandwidth: 5.00 Hz (-6 dB cutoff frequency: 122.50 Hz)\n",
            "- Filter length: 165 samples (0.660 s)\n",
            "\n"
          ]
        },
        {
          "output_type": "stream",
          "name": "stderr",
          "text": [
            "[Parallel(n_jobs=1)]: Done  17 tasks      | elapsed:    0.9s\n"
          ]
        },
        {
          "output_type": "stream",
          "name": "stdout",
          "text": [
            "Reading EGI header from /content/drive/MyDrive/UBCData/ACraw/AC_0015.RAW...\n",
            "    Reading events ...\n",
            "Reading EGI header from /content/drive/MyDrive/UBCData/ACraw/AC_0013.RAW...\n",
            "    Reading events ...\n",
            "    Assembling measurement info ...\n",
            "    Excluding events {} ...\n",
            "Reading 0 ... 99251  =      0.000 ...   397.004 secs...\n",
            "    Assembling measurement info ...\n",
            "    Excluding events {} ...\n",
            "Reading 0 ... 77600  =      0.000 ...   310.400 secs...\n",
            "Filtering raw data in 1 contiguous segment\n",
            "Setting up low-pass filter at 1.2e+02 Hz\n",
            "\n",
            "FIR filter parameters\n",
            "---------------------\n",
            "Designing a one-pass, zero-phase, non-causal lowpass filter:\n",
            "- Windowed time-domain design (firwin) method\n",
            "- Hamming window with 0.0194 passband ripple and 53 dB stopband attenuation\n",
            "- Upper passband edge: 120.00 Hz\n",
            "- Upper transition bandwidth: 5.00 Hz (-6 dB cutoff frequency: 122.50 Hz)\n",
            "- Filter length: 165 samples (0.660 s)\n",
            "\n",
            "Filtering raw data in 1 contiguous segment\n",
            "Setting up low-pass filter at 1.2e+02 Hz\n",
            "\n",
            "FIR filter parameters\n",
            "---------------------\n",
            "Designing a one-pass, zero-phase, non-causal lowpass filter:\n",
            "- Windowed time-domain design (firwin) method\n",
            "- Hamming window with 0.0194 passband ripple and 53 dB stopband attenuation\n",
            "- Upper passband edge: 120.00 Hz\n",
            "- Upper transition bandwidth: 5.00 Hz (-6 dB cutoff frequency: 122.50 Hz)\n",
            "- Filter length: 165 samples (0.660 s)\n",
            "\n"
          ]
        },
        {
          "output_type": "stream",
          "name": "stderr",
          "text": [
            "[Parallel(n_jobs=1)]: Done  17 tasks      | elapsed:    0.5s\n",
            "[Parallel(n_jobs=1)]: Done  17 tasks      | elapsed:    0.5s\n"
          ]
        },
        {
          "output_type": "stream",
          "name": "stdout",
          "text": [
            "Reading EGI header from /content/drive/MyDrive/UBCData/ACraw/AC_0020.RAW...\n",
            "    Reading events ...\n",
            "Reading EGI header from /content/drive/MyDrive/UBCData/ACraw/AC_001.raw...\n",
            "    Reading events ...\n",
            "    Assembling measurement info ...\n",
            "    Excluding events {} ...\n",
            "Reading 0 ... 77876  =      0.000 ...   311.504 secs...\n",
            "Filtering raw data in 1 contiguous segment\n",
            "Setting up low-pass filter at 1.2e+02 Hz\n",
            "\n",
            "FIR filter parameters\n",
            "---------------------\n",
            "Designing a one-pass, zero-phase, non-causal lowpass filter:\n",
            "- Windowed time-domain design (firwin) method\n",
            "- Hamming window with 0.0194 passband ripple and 53 dB stopband attenuation\n",
            "    Assembling measurement info ...\n",
            "- Upper passband edge: 120.00 Hz\n",
            "- Upper transition bandwidth: 5.00 Hz (-6 dB cutoff frequency: 122.50 Hz)\n",
            "    Excluding events {} ...\n",
            "- Filter length: 165 samples (0.660 s)\n",
            "\n",
            "Reading 0 ... 77800  =      0.000 ...   311.200 secs...\n"
          ]
        },
        {
          "output_type": "stream",
          "name": "stderr",
          "text": [
            "[Parallel(n_jobs=1)]: Done  17 tasks      | elapsed:    0.2s\n"
          ]
        },
        {
          "output_type": "stream",
          "name": "stdout",
          "text": [
            "Filtering raw data in 1 contiguous segment\n",
            "Setting up low-pass filter at 1.2e+02 Hz\n",
            "\n",
            "FIR filter parameters\n",
            "---------------------\n",
            "Designing a one-pass, zero-phase, non-causal lowpass filter:\n",
            "- Windowed time-domain design (firwin) method\n",
            "- Hamming window with 0.0194 passband ripple and 53 dB stopband attenuation\n",
            "- Upper passband edge: 120.00 Hz\n",
            "- Upper transition bandwidth: 5.00 Hz (-6 dB cutoff frequency: 122.50 Hz)\n",
            "- Filter length: 165 samples (0.660 s)\n",
            "\n"
          ]
        },
        {
          "output_type": "stream",
          "name": "stderr",
          "text": [
            "[Parallel(n_jobs=1)]: Done  17 tasks      | elapsed:    0.4s\n"
          ]
        },
        {
          "output_type": "stream",
          "name": "stdout",
          "text": [
            "Reading EGI header from /content/drive/MyDrive/UBCData/ACraw/AC_003.raw...\n",
            "    Reading events ...\n",
            "Reading EGI header from /content/drive/MyDrive/UBCData/ACraw/AC_009.raw...\n",
            "    Reading events ...\n",
            "    Assembling measurement info ...\n",
            "    Excluding events {} ...\n",
            "Reading 0 ... 78075  =      0.000 ...   312.300 secs...\n",
            "Filtering raw data in 1 contiguous segment\n",
            "Setting up low-pass filter at 1.2e+02 Hz\n",
            "\n",
            "FIR filter parameters\n",
            "---------------------\n",
            "Designing a one-pass, zero-phase, non-causal lowpass filter:\n",
            "- Windowed time-domain design (firwin) method\n",
            "- Hamming window with 0.0194 passband ripple and 53 dB stopband attenuation\n",
            "- Upper passband edge: 120.00 Hz\n",
            "- Upper transition bandwidth: 5.00 Hz (-6 dB cutoff frequency: 122.50 Hz)\n",
            "- Filter length: 165 samples (0.660 s)\n",
            "\n"
          ]
        },
        {
          "output_type": "stream",
          "name": "stderr",
          "text": [
            "[Parallel(n_jobs=1)]: Done  17 tasks      | elapsed:    0.3s\n"
          ]
        },
        {
          "output_type": "stream",
          "name": "stdout",
          "text": [
            "Reading EGI header from /content/drive/MyDrive/UBCData/ACraw/AC_0019.RAW...\n",
            "    Reading events ...\n",
            "    Assembling measurement info ...\n",
            "    Excluding events {} ...\n",
            "Reading 0 ... 92099  =      0.000 ...   368.396 secs...\n",
            "Filtering raw data in 1 contiguous segment\n",
            "Setting up low-pass filter at 1.2e+02 Hz\n",
            "\n",
            "FIR filter parameters\n",
            "---------------------\n",
            "Designing a one-pass, zero-phase, non-causal lowpass filter:\n",
            "- Windowed time-domain design (firwin) method\n",
            "- Hamming window with 0.0194 passband ripple and 53 dB stopband attenuation\n",
            "- Upper passband edge: 120.00 Hz\n",
            "- Upper transition bandwidth: 5.00 Hz (-6 dB cutoff frequency: 122.50 Hz)\n",
            "- Filter length: 165 samples (0.660 s)\n",
            "\n"
          ]
        },
        {
          "output_type": "stream",
          "name": "stderr",
          "text": [
            "[Parallel(n_jobs=1)]: Done  17 tasks      | elapsed:    0.4s\n"
          ]
        },
        {
          "output_type": "stream",
          "name": "stdout",
          "text": [
            "Reading EGI header from /content/drive/MyDrive/UBCData/ACraw/TBO.RAW...\n",
            "    Reading events ...\n",
            "    Assembling measurement info ...\n",
            "    Excluding events {} ...\n",
            "Reading 0 ... 89041  =      0.000 ...   356.164 secs...\n",
            "Filtering raw data in 1 contiguous segment\n",
            "Setting up low-pass filter at 1.2e+02 Hz\n",
            "\n",
            "FIR filter parameters\n",
            "---------------------\n",
            "Designing a one-pass, zero-phase, non-causal lowpass filter:\n",
            "- Windowed time-domain design (firwin) method\n",
            "- Hamming window with 0.0194 passband ripple and 53 dB stopband attenuation\n",
            "- Upper passband edge: 120.00 Hz\n",
            "- Upper transition bandwidth: 5.00 Hz (-6 dB cutoff frequency: 122.50 Hz)\n",
            "- Filter length: 165 samples (0.660 s)\n",
            "\n"
          ]
        },
        {
          "output_type": "stream",
          "name": "stderr",
          "text": [
            "[Parallel(n_jobs=1)]: Done  17 tasks      | elapsed:    0.3s\n"
          ]
        },
        {
          "output_type": "stream",
          "name": "stdout",
          "text": [
            "Reading EGI MFF Header from /content/drive/MyDrive/UBCData/ACraw/AC_005.mff...\n",
            "    Reading events ...\n",
            "    Assembling measurement info ...\n",
            "    Excluding events {} ...\n",
            "Reading 0 ... 152763  =      0.000 ...   305.526 secs...\n",
            "Filtering raw data in 1 contiguous segment\n",
            "Setting up low-pass filter at 1.2e+02 Hz\n",
            "\n",
            "FIR filter parameters\n",
            "---------------------\n",
            "Designing a one-pass, zero-phase, non-causal lowpass filter:\n",
            "- Windowed time-domain design (firwin) method\n",
            "- Hamming window with 0.0194 passband ripple and 53 dB stopband attenuation\n",
            "- Upper passband edge: 120.00 Hz\n",
            "- Upper transition bandwidth: 30.00 Hz (-6 dB cutoff frequency: 135.00 Hz)\n",
            "- Filter length: 55 samples (0.110 s)\n",
            "\n"
          ]
        },
        {
          "output_type": "stream",
          "name": "stderr",
          "text": [
            "[Parallel(n_jobs=1)]: Done  17 tasks      | elapsed:    1.2s\n"
          ]
        },
        {
          "output_type": "stream",
          "name": "stdout",
          "text": [
            "    Assembling measurement info ...\n",
            "    Excluding events {} ...\n",
            "Reading 0 ... 83837  =      0.000 ...   335.348 secs...\n",
            "Filtering raw data in 1 contiguous segment\n",
            "Setting up low-pass filter at 1.2e+02 Hz\n",
            "\n",
            "FIR filter parameters\n",
            "---------------------\n",
            "Designing a one-pass, zero-phase, non-causal lowpass filter:\n",
            "- Windowed time-domain design (firwin) method\n",
            "- Hamming window with 0.0194 passband ripple and 53 dB stopband attenuation\n",
            "- Upper passband edge: 120.00 Hz\n",
            "- Upper transition bandwidth: 5.00 Hz (-6 dB cutoff frequency: 122.50 Hz)\n",
            "- Filter length: 165 samples (0.660 s)\n",
            "\n"
          ]
        },
        {
          "output_type": "stream",
          "name": "stderr",
          "text": [
            "[Parallel(n_jobs=1)]: Done  17 tasks      | elapsed:    0.8s\n"
          ]
        },
        {
          "output_type": "stream",
          "name": "stdout",
          "text": [
            "    Assembling measurement info ...\n",
            "    Excluding events {} ...\n",
            "Reading 0 ... 77625  =      0.000 ...   310.500 secs...\n",
            "Filtering raw data in 1 contiguous segment\n",
            "Setting up low-pass filter at 1.2e+02 Hz\n",
            "\n",
            "FIR filter parameters\n",
            "---------------------\n",
            "Designing a one-pass, zero-phase, non-causal lowpass filter:\n",
            "- Windowed time-domain design (firwin) method\n",
            "- Hamming window with 0.0194 passband ripple and 53 dB stopband attenuation\n",
            "- Upper passband edge: 120.00 Hz\n",
            "- Upper transition bandwidth: 5.00 Hz (-6 dB cutoff frequency: 122.50 Hz)\n",
            "- Filter length: 165 samples (0.660 s)\n",
            "\n"
          ]
        },
        {
          "output_type": "stream",
          "name": "stderr",
          "text": [
            "[Parallel(n_jobs=1)]: Done  17 tasks      | elapsed:    0.7s\n"
          ]
        },
        {
          "output_type": "stream",
          "name": "stdout",
          "text": [
            "Reading EGI MFF Header from /content/drive/MyDrive/UBCData/ACraw/AC_007.mff...\n",
            "    Assembling measurement info ...\n",
            "    Excluding events {} ...\n",
            "Reading 0 ... 180230  =      0.000 ...   360.460 secs...\n",
            "    Reading events ...\n",
            "    Assembling measurement info ...\n",
            "    Excluding events {} ...\n",
            "Reading 0 ... 151317  =      0.000 ...   302.634 secs...\n",
            "Filtering raw data in 1 contiguous segment\n",
            "Setting up low-pass filter at 1.2e+02 Hz\n",
            "\n",
            "FIR filter parameters\n",
            "---------------------\n",
            "Designing a one-pass, zero-phase, non-causal lowpass filter:\n",
            "- Windowed time-domain design (firwin) method\n",
            "- Hamming window with 0.0194 passband ripple and 53 dB stopband attenuation\n",
            "- Upper passband edge: 120.00 Hz\n",
            "- Upper transition bandwidth: 30.00 Hz (-6 dB cutoff frequency: 135.00 Hz)\n",
            "- Filter length: 55 samples (0.110 s)\n",
            "\n",
            "Filtering raw data in 1 contiguous segment\n",
            "Setting up low-pass filter at 1.2e+02 Hz\n",
            "\n",
            "FIR filter parameters\n",
            "---------------------\n",
            "Designing a one-pass, zero-phase, non-causal lowpass filter:\n",
            "- Windowed time-domain design (firwin) method\n",
            "- Hamming window with 0.0194 passband ripple and 53 dB stopband attenuation\n",
            "- Upper passband edge: 120.00 Hz\n",
            "- Upper transition bandwidth: 30.00 Hz (-6 dB cutoff frequency: 135.00 Hz)\n",
            "- Filter length: 55 samples (0.110 s)\n",
            "\n"
          ]
        },
        {
          "output_type": "stream",
          "name": "stderr",
          "text": [
            "[Parallel(n_jobs=1)]: Done  17 tasks      | elapsed:    0.8s\n",
            "[Parallel(n_jobs=1)]: Done  17 tasks      | elapsed:    0.9s\n"
          ]
        },
        {
          "output_type": "stream",
          "name": "stdout",
          "text": [
            "Reading EGI header from /content/drive/MyDrive/UBCData/ACraw/AC_008.raw...\n",
            "    Reading events ...\n",
            "Reading EGI MFF Header from /content/drive/MyDrive/UBCData/ACraw/AC_006.mff...\n",
            "    Reading events ...\n",
            "    Assembling measurement info ...\n",
            "    Excluding events {} ...\n",
            "Reading 0 ... 152613  =      0.000 ...   305.226 secs...\n",
            "Filtering raw data in 1 contiguous segment\n",
            "Setting up low-pass filter at 1.2e+02 Hz\n",
            "\n",
            "FIR filter parameters\n",
            "---------------------\n",
            "Designing a one-pass, zero-phase, non-causal lowpass filter:\n",
            "- Windowed time-domain design (firwin) method\n",
            "- Hamming window with 0.0194 passband ripple and 53 dB stopband attenuation\n",
            "- Upper passband edge: 120.00 Hz\n",
            "- Upper transition bandwidth: 30.00 Hz (-6 dB cutoff frequency: 135.00 Hz)\n",
            "- Filter length: 55 samples (0.110 s)\n",
            "\n"
          ]
        },
        {
          "output_type": "stream",
          "name": "stderr",
          "text": [
            "[Parallel(n_jobs=1)]: Done  17 tasks      | elapsed:    0.6s\n"
          ]
        },
        {
          "output_type": "stream",
          "name": "stdout",
          "text": [
            "    Assembling measurement info ...\n",
            "    Excluding events {} ...\n",
            "Reading 0 ... 152045  =      0.000 ...   304.090 secs...\n",
            "Filtering raw data in 1 contiguous segment\n",
            "Setting up low-pass filter at 1.2e+02 Hz\n",
            "\n",
            "FIR filter parameters\n",
            "---------------------\n",
            "Designing a one-pass, zero-phase, non-causal lowpass filter:\n",
            "- Windowed time-domain design (firwin) method\n",
            "- Hamming window with 0.0194 passband ripple and 53 dB stopband attenuation\n",
            "- Upper passband edge: 120.00 Hz\n",
            "- Upper transition bandwidth: 30.00 Hz (-6 dB cutoff frequency: 135.00 Hz)\n",
            "- Filter length: 55 samples (0.110 s)\n",
            "\n"
          ]
        },
        {
          "output_type": "stream",
          "name": "stderr",
          "text": [
            "[Parallel(n_jobs=1)]: Done  17 tasks      | elapsed:    0.3s\n"
          ]
        },
        {
          "output_type": "stream",
          "name": "stdout",
          "text": [
            "Reading EGI header from /content/drive/MyDrive/UBCData/ACraw/AC_0018.RAW...\n",
            "    Reading events ...\n",
            "    Assembling measurement info ...\n",
            "    Excluding events {} ...\n",
            "Reading 0 ... 87388  =      0.000 ...   349.552 secs...\n",
            "Filtering raw data in 1 contiguous segment\n",
            "Setting up low-pass filter at 1.2e+02 Hz\n",
            "\n",
            "FIR filter parameters\n",
            "---------------------\n",
            "Designing a one-pass, zero-phase, non-causal lowpass filter:\n",
            "- Windowed time-domain design (firwin) method\n",
            "- Hamming window with 0.0194 passband ripple and 53 dB stopband attenuation\n",
            "- Upper passband edge: 120.00 Hz\n",
            "- Upper transition bandwidth: 5.00 Hz (-6 dB cutoff frequency: 122.50 Hz)\n",
            "- Filter length: 165 samples (0.660 s)\n",
            "\n"
          ]
        },
        {
          "output_type": "stream",
          "name": "stderr",
          "text": [
            "[Parallel(n_jobs=1)]: Done  17 tasks      | elapsed:    0.2s\n"
          ]
        },
        {
          "output_type": "stream",
          "name": "stdout",
          "text": [
            "Starting fold 1/5...\n"
          ]
        },
        {
          "output_type": "stream",
          "name": "stderr",
          "text": [
            "/usr/local/lib/python3.10/dist-packages/keras/src/layers/rnn/bidirectional.py:107: UserWarning: Do not pass an `input_shape`/`input_dim` argument to a layer. When using Sequential models, prefer using an `Input(shape)` object as the first layer in the model instead.\n",
            "  super().__init__(**kwargs)\n"
          ]
        },
        {
          "output_type": "stream",
          "name": "stdout",
          "text": [
            "Fold 1 accuracy: 100.00%\n",
            "Starting fold 2/5...\n",
            "Fold 2 accuracy: 68.52%\n",
            "Starting fold 3/5...\n",
            "Fold 3 accuracy: 100.00%\n",
            "Starting fold 4/5...\n",
            "Fold 4 accuracy: 100.00%\n",
            "Starting fold 5/5...\n",
            "Fold 5 accuracy: 96.30%\n",
            "Average accuracy across 5 folds: 92.96%\n",
            "Augmentation complete with 1080 segments.\n"
          ]
        }
      ],
      "source": [
        "import os\n",
        "import numpy as np\n",
        "import mne\n",
        "import zipfile\n",
        "import tensorflow as tf\n",
        "from tensorflow.keras.models import Sequential\n",
        "from tensorflow.keras.layers import LSTM, Bidirectional, Dropout, Dense, BatchNormalization\n",
        "from tensorflow.keras.regularizers import l2\n",
        "from sklearn.model_selection import train_test_split\n",
        "from sklearn.utils import shuffle\n",
        "from multiprocessing import Pool\n",
        "import matplotlib.pyplot as plt\n",
        "from sklearn.model_selection import KFold\n",
        "\n",
        "\n",
        "# Constants\n",
        "NUM_CHANNELS = 64\n",
        "SAMPLING_RATE = 250\n",
        "TRANSIENT_REMOVAL_SAMPLES = 1000\n",
        "RECORDING_DURATION_SEC = 300\n",
        "SEGMENT_DURATION_SEC = 10  # 10-second segments\n",
        "N_SAMPLES_PER_SEGMENT = SEGMENT_DURATION_SEC * SAMPLING_RATE\n",
        "FIXED_SEGMENTS_STARTS = [\n",
        "    i * N_SAMPLES_PER_SEGMENT for i in range(RECORDING_DURATION_SEC // SEGMENT_DURATION_SEC)\n",
        "]\n",
        "\n",
        "# Paths\n",
        "DATA_DIRS = {\"HC\": \"/content/drive/MyDrive/UBCData/HCraw\", \"AC\": \"/content/drive/MyDrive/UBCData/ACraw\"}\n",
        "TEMP_DIR = \"./content/drive/MyDrive/UBCData/unzipped_files\"\n",
        "\n",
        "# File extraction\n",
        "def unzip_file(file_path, output_dir):\n",
        "    if file_path.endswith(\".zip\"):\n",
        "        with zipfile.ZipFile(file_path, 'r') as zip_ref:\n",
        "            zip_ref.extractall(output_dir)\n",
        "        extracted_files = [os.path.join(output_dir, f) for f in os.listdir(output_dir) if f.endswith(\".mff\")]\n",
        "        return extracted_files[0] if extracted_files else None\n",
        "    return file_path\n",
        "\n",
        "# Data processing\n",
        "def process_file(file_info):\n",
        "    file_path, label = file_info\n",
        "    try:\n",
        "        raw = mne.io.read_raw_egi(file_path, preload=True, events_as_annotations=True)\n",
        "\n",
        "        # Apply a low-pass filter\n",
        "        raw.filter(None, 120, fir_design='firwin', skip_by_annotation='edge')\n",
        "\n",
        "        raw_data = raw.get_data()\n",
        "\n",
        "        if raw_data.shape[1] <= 2 * TRANSIENT_REMOVAL_SAMPLES:\n",
        "            return [], []\n",
        "\n",
        "        cleaned_data = raw_data[:, TRANSIENT_REMOVAL_SAMPLES:-TRANSIENT_REMOVAL_SAMPLES]\n",
        "        total_samples = RECORDING_DURATION_SEC * SAMPLING_RATE\n",
        "\n",
        "        if cleaned_data.shape[1] < total_samples:\n",
        "            return [], []\n",
        "\n",
        "        # Fixed segments only\n",
        "        fixed_segments = [\n",
        "            cleaned_data[:, start:start + N_SAMPLES_PER_SEGMENT]\n",
        "            for start in FIXED_SEGMENTS_STARTS\n",
        "            if start + N_SAMPLES_PER_SEGMENT <= cleaned_data.shape[1]\n",
        "        ]\n",
        "\n",
        "        for i in range(len(fixed_segments)):\n",
        "            if fixed_segments[i].shape[0] == 65:\n",
        "                fixed_segments[i] = fixed_segments[i][:64, :]\n",
        "\n",
        "        labels = [label] * len(fixed_segments)\n",
        "        return fixed_segments, labels\n",
        "\n",
        "    except Exception as e:\n",
        "        print(f\"Error processing {os.path.basename(file_path)}: {e}\")\n",
        "        return [], []\n",
        "\n",
        "# Model training\n",
        "def cross_validate_model(X_augmented, y_augmented, k=5, epochs=30, batch_size=32):\n",
        "    kfold = KFold(n_splits=k, shuffle=True, random_state=42)\n",
        "    fold_accuracies = []\n",
        "\n",
        "    for fold, (train_idx, test_idx) in enumerate(kfold.split(X_augmented)):\n",
        "        print(f\"Starting fold {fold + 1}/{k}...\")\n",
        "\n",
        "        X_train, X_test = X_augmented[train_idx], X_augmented[test_idx]\n",
        "        y_train, y_test = y_augmented[train_idx], y_augmented[test_idx]\n",
        "\n",
        "        X_train = X_train.reshape(X_train.shape[0], X_train.shape[2], X_train.shape[1])\n",
        "        X_test = X_test.reshape(X_test.shape[0], X_test.shape[2], X_test.shape[1])\n",
        "\n",
        "        model = Sequential([\n",
        "            Bidirectional(LSTM(100, return_sequences=True), input_shape=(X_train.shape[1], X_train.shape[2])),\n",
        "            BatchNormalization(),\n",
        "            Dropout(0.3),\n",
        "            Bidirectional(LSTM(100)),\n",
        "            BatchNormalization(),\n",
        "            Dropout(0.3),\n",
        "            Dense(32, activation='relu', kernel_regularizer=l2(0.01)),\n",
        "            Dense(1, activation='sigmoid', kernel_regularizer=l2(0.01)),\n",
        "        ])\n",
        "\n",
        "        model.compile(optimizer='adam', loss='binary_crossentropy', metrics=['accuracy'])\n",
        "        model.fit(X_train, y_train, epochs=epochs, batch_size=batch_size, verbose=0)\n",
        "\n",
        "        loss, accuracy = model.evaluate(X_test, y_test, verbose=0)\n",
        "        print(f\"Fold {fold + 1} accuracy: {accuracy * 100:.2f}%\")\n",
        "        fold_accuracies.append(accuracy)\n",
        "\n",
        "    print(f\"Average accuracy across {k} folds: {np.mean(fold_accuracies) * 100:.2f}%\")\n",
        "    return np.mean(fold_accuracies)\n",
        "\n",
        "    # Plot training and validation accuracy\n",
        "    plt.figure(figsize=(10, 6))\n",
        "    plt.plot(history.history['accuracy'], label='Training Accuracy', marker='o')\n",
        "    plt.plot(history.history['val_accuracy'], label='Validation Accuracy', marker='x')\n",
        "    plt.title('Model Accuracy per Epoch')\n",
        "    plt.xlabel('Epoch')\n",
        "    plt.ylabel('Accuracy')\n",
        "    plt.legend()\n",
        "    plt.grid()\n",
        "    plt.show()\n",
        "\n",
        "    return model\n",
        "\n",
        "# Main function\n",
        "def main():\n",
        "    X_augmented = []\n",
        "    y_augmented = []\n",
        "\n",
        "    os.makedirs(TEMP_DIR, exist_ok=True)\n",
        "    file_info_list = []\n",
        "\n",
        "    for label, folder in enumerate(DATA_DIRS.values()):\n",
        "        for idx, file_name in enumerate(os.listdir(folder)):\n",
        "            if idx >= 20:  # Limit files for faster processing\n",
        "                break\n",
        "            file_path = os.path.join(folder, file_name)\n",
        "            file_info_list.append((file_path, label))\n",
        "\n",
        "    with Pool(processes=4) as pool:  # Use multiprocessing for faster processing\n",
        "        results = pool.map(process_file, file_info_list)\n",
        "\n",
        "    for segments, labels in results:\n",
        "        X_augmented.extend(segments)\n",
        "        y_augmented.extend(labels)\n",
        "\n",
        "    X_augmented = np.array(X_augmented, dtype=np.float32)\n",
        "    y_augmented = np.array(y_augmented, dtype=np.float32)\n",
        "\n",
        "    if len(X_augmented) > 0:\n",
        "        cross_validate_model(X_augmented, y_augmented, epochs=40, batch_size=32)\n",
        "        print(f\"Augmentation complete with {len(X_augmented)} segments.\")\n",
        "    else:\n",
        "        print(\"Augmentation complete. No valid segments were created.\")\n",
        "\n",
        "if __name__ == \"__main__\":\n",
        "    main()\n"
      ]
    },
    {
      "cell_type": "markdown",
      "metadata": {
        "id": "_TKckFh9DJgz"
      },
      "source": []
    },
    {
      "cell_type": "code",
      "source": [],
      "metadata": {
        "id": "a1vnmOdoRGsr"
      },
      "execution_count": null,
      "outputs": []
    },
    {
      "cell_type": "code",
      "execution_count": null,
      "metadata": {
        "colab": {
          "base_uri": "https://localhost:8080/"
        },
        "id": "buhoqtOAqTt4",
        "outputId": "99fdbd2c-8cae-49ab-d7b6-e9e44f7c0c24"
      },
      "outputs": [
        {
          "output_type": "stream",
          "name": "stdout",
          "text": [
            "Collecting mne\n",
            "  Downloading mne-1.9.0-py3-none-any.whl.metadata (20 kB)\n",
            "Requirement already satisfied: decorator in /usr/local/lib/python3.10/dist-packages (from mne) (4.4.2)\n",
            "Requirement already satisfied: jinja2 in /usr/local/lib/python3.10/dist-packages (from mne) (3.1.4)\n",
            "Requirement already satisfied: lazy-loader>=0.3 in /usr/local/lib/python3.10/dist-packages (from mne) (0.4)\n",
            "Requirement already satisfied: matplotlib>=3.6 in /usr/local/lib/python3.10/dist-packages (from mne) (3.8.0)\n",
            "Requirement already satisfied: numpy<3,>=1.23 in /usr/local/lib/python3.10/dist-packages (from mne) (1.26.4)\n",
            "Requirement already satisfied: packaging in /usr/local/lib/python3.10/dist-packages (from mne) (24.2)\n",
            "Requirement already satisfied: pooch>=1.5 in /usr/local/lib/python3.10/dist-packages (from mne) (1.8.2)\n",
            "Requirement already satisfied: scipy>=1.9 in /usr/local/lib/python3.10/dist-packages (from mne) (1.13.1)\n",
            "Requirement already satisfied: tqdm in /usr/local/lib/python3.10/dist-packages (from mne) (4.67.1)\n",
            "Requirement already satisfied: contourpy>=1.0.1 in /usr/local/lib/python3.10/dist-packages (from matplotlib>=3.6->mne) (1.3.1)\n",
            "Requirement already satisfied: cycler>=0.10 in /usr/local/lib/python3.10/dist-packages (from matplotlib>=3.6->mne) (0.12.1)\n",
            "Requirement already satisfied: fonttools>=4.22.0 in /usr/local/lib/python3.10/dist-packages (from matplotlib>=3.6->mne) (4.55.3)\n",
            "Requirement already satisfied: kiwisolver>=1.0.1 in /usr/local/lib/python3.10/dist-packages (from matplotlib>=3.6->mne) (1.4.7)\n",
            "Requirement already satisfied: pillow>=6.2.0 in /usr/local/lib/python3.10/dist-packages (from matplotlib>=3.6->mne) (11.0.0)\n",
            "Requirement already satisfied: pyparsing>=2.3.1 in /usr/local/lib/python3.10/dist-packages (from matplotlib>=3.6->mne) (3.2.0)\n",
            "Requirement already satisfied: python-dateutil>=2.7 in /usr/local/lib/python3.10/dist-packages (from matplotlib>=3.6->mne) (2.8.2)\n",
            "Requirement already satisfied: platformdirs>=2.5.0 in /usr/local/lib/python3.10/dist-packages (from pooch>=1.5->mne) (4.3.6)\n",
            "Requirement already satisfied: requests>=2.19.0 in /usr/local/lib/python3.10/dist-packages (from pooch>=1.5->mne) (2.32.3)\n",
            "Requirement already satisfied: MarkupSafe>=2.0 in /usr/local/lib/python3.10/dist-packages (from jinja2->mne) (3.0.2)\n",
            "Requirement already satisfied: six>=1.5 in /usr/local/lib/python3.10/dist-packages (from python-dateutil>=2.7->matplotlib>=3.6->mne) (1.17.0)\n",
            "Requirement already satisfied: charset-normalizer<4,>=2 in /usr/local/lib/python3.10/dist-packages (from requests>=2.19.0->pooch>=1.5->mne) (3.4.0)\n",
            "Requirement already satisfied: idna<4,>=2.5 in /usr/local/lib/python3.10/dist-packages (from requests>=2.19.0->pooch>=1.5->mne) (3.10)\n",
            "Requirement already satisfied: urllib3<3,>=1.21.1 in /usr/local/lib/python3.10/dist-packages (from requests>=2.19.0->pooch>=1.5->mne) (2.2.3)\n",
            "Requirement already satisfied: certifi>=2017.4.17 in /usr/local/lib/python3.10/dist-packages (from requests>=2.19.0->pooch>=1.5->mne) (2024.12.14)\n",
            "Downloading mne-1.9.0-py3-none-any.whl (7.4 MB)\n",
            "\u001b[2K   \u001b[90m━━━━━━━━━━━━━━━━━━━━━━━━━━━━━━━━━━━━━━━━\u001b[0m \u001b[32m7.4/7.4 MB\u001b[0m \u001b[31m49.3 MB/s\u001b[0m eta \u001b[36m0:00:00\u001b[0m\n",
            "\u001b[?25hInstalling collected packages: mne\n",
            "Successfully installed mne-1.9.0\n"
          ]
        }
      ],
      "source": [
        "!pip install mne"
      ]
    }
  ],
  "metadata": {
    "accelerator": "GPU",
    "colab": {
      "gpuType": "T4",
      "provenance": []
    },
    "kernelspec": {
      "display_name": "Python 3",
      "name": "python3"
    },
    "language_info": {
      "name": "python"
    }
  },
  "nbformat": 4,
  "nbformat_minor": 0
}